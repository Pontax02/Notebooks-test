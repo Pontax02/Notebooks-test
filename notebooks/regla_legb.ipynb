{
 "cells": [
  {
   "cell_type": "markdown",
   "metadata": {},
   "source": [
    "# Regla LEGB"
   ]
  },
  {
   "cell_type": "markdown",
   "metadata": {},
   "source": [
    "# scope global\n",
    "\n",
    "-El nombre de las variables globales se asignan en el top\n",
    "-Los nombres globales solo se deben declarar si se van a usar en una función\n",
    "-Y deben estar referenciados en una funcion"
   ]
  },
  {
   "cell_type": "code",
   "execution_count": 1,
   "metadata": {},
   "outputs": [
    {
     "name": "stdout",
     "output_type": "stream",
     "text": [
      "10\n"
     ]
    }
   ],
   "source": [
    "x=10\n",
    "#global\n",
    "def func():\n",
    "    x = 30\n",
    "\n",
    "func()\n",
    "print(x)    "
   ]
  },
  {
   "cell_type": "code",
   "execution_count": 2,
   "metadata": {},
   "outputs": [
    {
     "name": "stdout",
     "output_type": "stream",
     "text": [
      "30\n"
     ]
    }
   ],
   "source": [
    "x=10\n",
    "#global\n",
    "def func():\n",
    "    global x\n",
    "    x = 30\n",
    "\n",
    "func()\n",
    "print(x)    #printa 30"
   ]
  },
  {
   "cell_type": "markdown",
   "metadata": {},
   "source": [
    "# REGLA LEGB"
   ]
  },
  {
   "cell_type": "code",
   "execution_count": 3,
   "metadata": {},
   "outputs": [
    {
     "name": "stdout",
     "output_type": "stream",
     "text": [
      "x = 30, y = 10, z = 20\n"
     ]
    }
   ],
   "source": [
    "y, z = 10, 20       \n",
    "\n",
    "def all_global():\n",
    "\tglobal x        \n",
    "\tx = y + z      \n",
    "                \n",
    "\n",
    "all_global()\n",
    "print('x = %d, y = %d, z = %d' % (x, y, z))"
   ]
  }
 ],
 "metadata": {
  "kernelspec": {
   "display_name": "Python 3",
   "language": "python",
   "name": "python3"
  },
  "language_info": {
   "codemirror_mode": {
    "name": "ipython",
    "version": 3
   },
   "file_extension": ".py",
   "mimetype": "text/x-python",
   "name": "python",
   "nbconvert_exporter": "python",
   "pygments_lexer": "ipython3",
   "version": "3.12.3"
  }
 },
 "nbformat": 4,
 "nbformat_minor": 2
}
